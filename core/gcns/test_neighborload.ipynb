{
 "cells": [
  {
   "cell_type": "code",
   "execution_count": 1,
   "metadata": {},
   "outputs": [
    {
     "name": "stderr",
     "output_type": "stream",
     "text": [
      "/home/hk-project-test-p0021478/cc7738/anaconda3/envs/EAsF/lib/python3.8/site-packages/tqdm/auto.py:21: TqdmWarning: IProgress not found. Please update jupyter and ipywidgets. See https://ipywidgets.readthedocs.io/en/stable/user_install.html\n",
      "  from .autonotebook import tqdm as notebook_tqdm\n"
     ]
    }
   ],
   "source": [
    "import os, sys\n",
    "sys.path.insert(0, '/hkfs/work/workspace/scratch/cc7738-benchmark_tag/TAPE_chen/core')\n",
    "\n",
    "from torch_geometric.loader import NeighborLoader\n",
    "from data_utils.load_data_lp import load_taglp_arxiv2023, load_tag_arxiv23\n",
    "from yacs.config import CfgNode as CN\n",
    "\n"
   ]
  },
  {
   "cell_type": "code",
   "execution_count": 2,
   "metadata": {},
   "outputs": [],
   "source": [
    "def init_cfg_test():\n",
    "    \"\"\"\n",
    "    Initialize a CfgNode instance to test dataloader for link prediction.\n",
    "\n",
    "    Args:\n",
    "        cfg_dict (dict): Dictionary containing configuration parameters.\n",
    "\n",
    "    Returns:\n",
    "        CN: Initialized CfgNode instance.\n",
    "    \"\"\"\n",
    "    cfg_dict = {\n",
    "        'data': {  \n",
    "            'undirected': True,\n",
    "            'include_negatives': True,\n",
    "            'val_pct': 0.1,\n",
    "            'test_pct': 0.1,\n",
    "            'split_labels': True,\n",
    "            'device': 'cpu',\n",
    "            'split_index': [0.8, 0.15, 0.05]\n",
    "            },\n",
    "        'train':  {\n",
    "                'device': 'cpu'\n",
    "            }\n",
    "    }\n",
    "    return CN(cfg_dict)"
   ]
  },
  {
   "cell_type": "code",
   "execution_count": 25,
   "metadata": {},
   "outputs": [
    {
     "name": "stdout",
     "output_type": "stream",
     "text": [
      "data:\n",
      "  device: cpu\n",
      "  include_negatives: True\n",
      "  split_index: [0.8, 0.15, 0.05]\n",
      "  split_labels: True\n",
      "  test_pct: 0.1\n",
      "  undirected: True\n",
      "  val_pct: 0.1\n",
      "train:\n",
      "  device: cpu\n"
     ]
    },
    {
     "name": "stderr",
     "output_type": "stream",
     "text": [
      "/home/hk-project-test-p0021478/cc7738/anaconda3/envs/EAsF/lib/python3.8/site-packages/torch_geometric/sampler/neighbor_sampler.py:61: UserWarning: Using 'NeighborSampler' without a 'pyg-lib' installation is deprecated and will be removed soon. Please install 'pyg-lib' for accelerated neighborhood sampling\n",
      "  warnings.warn(f\"Using '{self.__class__.__name__}' without a \"\n"
     ]
    }
   ],
   "source": [
    "args = init_cfg_test()\n",
    "print(args)\n",
    "data, text = load_tag_arxiv23()\n",
    "loader = NeighborLoader(\n",
    "                data,\n",
    "                # Sample 30 neighbors for each node for 2 iterations\n",
    "                num_neighbors=[30] * 2,\n",
    "                # Use a batch size of 128 for sampling training nodes\n",
    "                batch_size=4,\n",
    "                input_nodes=data.train_mask,\n",
    "            )"
   ]
  },
  {
   "cell_type": "code",
   "execution_count": 26,
   "metadata": {},
   "outputs": [
    {
     "name": "stdout",
     "output_type": "stream",
     "text": [
      "4\n"
     ]
    }
   ],
   "source": [
    "sampled_data = next(iter(loader))\n",
    "print(sampled_data.batch_size)"
   ]
  },
  {
   "cell_type": "code",
   "execution_count": 27,
   "metadata": {},
   "outputs": [
    {
     "data": {
      "text/plain": [
       "True"
      ]
     },
     "execution_count": 27,
     "metadata": {},
     "output_type": "execute_result"
    }
   ],
   "source": [
    "sampled_data.is_directed()"
   ]
  },
  {
   "cell_type": "code",
   "execution_count": 29,
   "metadata": {},
   "outputs": [
    {
     "data": {
      "image/png": "[encoded data removed]",
      "text/plain": [
       "<Figure size 640x480 with 1 Axes>"
      ]
     },
     "metadata": {},
     "output_type": "display_data"
    }
   ],
   "source": [
    "from torch_geometric.utils import to_networkx\n",
    "import networkx as nx\n",
    "import matplotlib.pyplot as plt\n",
    "g = to_networkx(sampled_data)\n",
    "\n",
    "edge_colours = ['b' for _ in g.edges()]\n",
    "\n",
    "options = {\n",
    "    'node_color': 'blue',\n",
    "    'node_size': 200,\n",
    "    'width': 1,\n",
    "    'arrowstyle': '-|>',\n",
    "    'arrowsize': 12,\n",
    "}\n",
    "nx.draw_networkx(g, arrows=True, **options)"
   ]
  },
  {
   "cell_type": "code",
   "execution_count": 44,
   "metadata": {},
   "outputs": [
    {
     "name": "stdout",
     "output_type": "stream",
     "text": [
      "4\n"
     ]
    },
    {
     "name": "stderr",
     "output_type": "stream",
     "text": [
      "/home/hk-project-test-p0021478/cc7738/anaconda3/envs/EAsF/lib/python3.8/site-packages/torch_geometric/sampler/neighbor_sampler.py:61: UserWarning: Using 'NeighborSampler' without a 'pyg-lib' installation is deprecated and will be removed soon. Please install 'pyg-lib' for accelerated neighborhood sampling\n",
      "  warnings.warn(f\"Using '{self.__class__.__name__}' without a \"\n"
     ]
    },
    {
     "data": {
      "text/plain": [
       "True"
      ]
     },
     "execution_count": 44,
     "metadata": {},
     "output_type": "execute_result"
    }
   ],
   "source": [
    "subgraph_type =  'directional'\n",
    "subgraph = NeighborLoader(\n",
    "                data,\n",
    "                # Sample 30 neighbors for each node for 2 iterations\n",
    "                num_neighbors=[30] * 2,\n",
    "                # Use a batch size of 128 for sampling training nodes\n",
    "                batch_size=4,\n",
    "                input_nodes=data.train_mask,\n",
    "                subgraph_type='bidirectional',\n",
    "            )\n",
    "sampled_subgraph = next(iter(subgraph))\n",
    "print(sampled_subgraph.batch_size)\n",
    "sampled_subgraph.has_isolated_nodes()"
   ]
  },
  {
   "cell_type": "code",
   "execution_count": 45,
   "metadata": {},
   "outputs": [
    {
     "data": {
      "image/png": "[encoded data removed]",
      "text/plain": [
       "<Figure size 640x480 with 1 Axes>"
      ]
     },
     "metadata": {},
     "output_type": "display_data"
    }
   ],
   "source": [
    "subgraph = to_networkx(sampled_subgraph)\n",
    "\n",
    "edge_colours = ['b' for _ in subgraph.edges()]\n",
    "\n",
    "options = {\n",
    "    'node_color': 'blue',\n",
    "    'node_size': 200,\n",
    "    'width': 1,\n",
    "    'arrowstyle': '-|>',\n",
    "    'arrowsize': 12,\n",
    "}\n",
    "nx.draw_networkx(subgraph, arrows=True, **options)"
   ]
  }
 ],
 "metadata": {
  "kernelspec": {
   "display_name": "EAsF",
   "language": "python",
   "name": "python3"
  },
  "language_info": {
   "codemirror_mode": {
    "name": "ipython",
    "version": 3
   },
   "file_extension": ".py",
   "mimetype": "text/x-python",
   "name": "python",
   "nbconvert_exporter": "python",
   "pygments_lexer": "ipython3",
   "version": "3.8.18"
  }
 },
 "nbformat": 4,
 "nbformat_minor": 2
}
