{
 "cells": [
  {
   "cell_type": "code",
   "execution_count": 1,
   "metadata": {},
   "outputs": [],
   "source": [
    "import pandas as pd\n",
    "new_Data = pd.read_csv('new_DATA.csv')\n",
    "csv_columns = new_Data.columns\n",
    "# algorithm_name = 'node2vec_mrr_vtm6u3ww_cora_struc2vec'\n",
    "# metric_name = 'ACC'\n",
    "\n",
    "# # Проверьте, существует ли алгоритм и метрика в данных\n",
    "# if algorithm_name in new_Data['Metric'].values and metric_name in new_Data.columns:\n",
    "#     # Используем .loc[] для доступа к строке и столбцу\n",
    "#     new_Data.loc[new_Data['Metric'] == algorithm_name, metric_name] = 0\n",
    "# new_Data"
   ]
  },
  {
   "cell_type": "code",
   "execution_count": 2,
   "metadata": {},
   "outputs": [
    {
     "name": "stdout",
     "output_type": "stream",
     "text": [
      "Best List Length: 16\n",
      "CSV Columns Length: 17\n"
     ]
    },
    {
     "name": "stderr",
     "output_type": "stream",
     "text": [
      "/scratch/ipykernel_2507764/1680382299.py:17: FutureWarning: DataFrame.applymap has been deprecated. Use DataFrame.map instead.\n",
      "  extracted_means = new_Data.applymap(convert_to_float)\n"
     ]
    }
   ],
   "source": [
    "import re\n",
    "import pandas as pd\n",
    "\n",
    "def convert_to_float(value):\n",
    "    if isinstance(value, str):\n",
    "        match = re.match(r\"([+-]?[0-9]*[.]?[0-9]+)\", value)\n",
    "        if match:\n",
    "            return float(match.group(0))\n",
    "        else:\n",
    "            return None\n",
    "    return value\n",
    "\n",
    "# Загружаем данные\n",
    "new_Data = pd.read_csv('new_DATA.csv')\n",
    "\n",
    "# Применяем функцию для извлечения средних значений\n",
    "extracted_means = new_Data.applymap(convert_to_float)\n",
    "\n",
    "# Удаляем колонки, содержащие хотя бы один None\n",
    "columns_without_none = extracted_means.dropna(axis=1, how='any')\n",
    "\n",
    "# Применяем функцию max для нахождения максимальных значений в каждой колонке\n",
    "highest_values = columns_without_none.apply(lambda column: max(column, default=None))\n",
    "\n",
    "# Создаем список значений для строки \"Best\"\n",
    "Best_list = ['Best'] + highest_values.tolist()\n",
    "\n",
    "# Проверяем, совпадают ли размеры списка и колонок\n",
    "print(\"Best List Length:\", len(Best_list))\n",
    "print(\"CSV Columns Length:\", len(new_Data.columns))\n",
    "\n",
    "# Добавляем недостающие значения, если их меньше\n",
    "if len(Best_list) < len(new_Data.columns):\n",
    "    Best_list += [None] * (len(new_Data.columns) - len(Best_list))\n",
    "\n",
    "# Создаем DataFrame для строки \"Best\"\n",
    "Best_df = pd.DataFrame([Best_list], columns=new_Data.columns)\n",
    "\n",
    "# Добавляем строку \"Best\" в исходные данные\n",
    "upt_Data = pd.concat([new_Data, Best_df])\n",
    "\n",
    "# Сохраняем результат в CSV (если нужно)\n",
    "# upt_Data.to_csv('updated_DATA.csv', index=False)\n",
    "\n",
    "upt_Data.to_csv('Upt_Data.csv', index=False)\n"
   ]
  },
  {
   "cell_type": "code",
   "execution_count": null,
   "metadata": {},
   "outputs": [],
   "source": []
  }
 ],
 "metadata": {
  "kernelspec": {
   "display_name": "ss-1",
   "language": "python",
   "name": "python3"
  },
  "language_info": {
   "codemirror_mode": {
    "name": "ipython",
    "version": 3
   },
   "file_extension": ".py",
   "mimetype": "text/x-python",
   "name": "python",
   "nbconvert_exporter": "python",
   "pygments_lexer": "ipython3",
   "version": "3.9.19"
  }
 },
 "nbformat": 4,
 "nbformat_minor": 2
}
